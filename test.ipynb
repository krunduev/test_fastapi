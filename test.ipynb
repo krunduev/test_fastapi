{
 "cells": [
  {
   "cell_type": "code",
   "execution_count": 3,
   "metadata": {},
   "outputs": [
    {
     "name": "stdout",
     "output_type": "stream",
     "text": [
      "{\"result\":3.1}\n",
      "{\"result\":-0.8999999999999999}\n",
      "{\"result\":2.2}\n",
      "{\"result\":0.55}\n",
      "{\"error\":\"divider can't be 0\"}\n"
     ]
    }
   ],
   "source": [
    "import requests\n",
    "\n",
    "# использование кастомного chatgpt через кастомный api\n",
    "payload = {\"a\":1.1, \"b\":2}\n",
    "response = requests.post(\"http://127.0.0.1:8000/add\", json=payload)\n",
    "print(response.text)\n",
    "\n",
    "response = requests.post(\"http://127.0.0.1:8000/sub\", json=payload)\n",
    "print(response.text)\n",
    "\n",
    "response = requests.post(\"http://127.0.0.1:8000/mul\", json=payload)\n",
    "print(response.text)\n",
    "\n",
    "response = requests.post(\"http://127.0.0.1:8000/div\", json=payload)\n",
    "print(response.text)\n",
    "\n",
    "response = requests.post(\"http://127.0.0.1:8000/div\", json={\"a\":1.1, \"b\":0})\n",
    "print(response.text)\n"
   ]
  }
 ],
 "metadata": {
  "kernelspec": {
   "display_name": "base",
   "language": "python",
   "name": "python3"
  },
  "language_info": {
   "codemirror_mode": {
    "name": "ipython",
    "version": 3
   },
   "file_extension": ".py",
   "mimetype": "text/x-python",
   "name": "python",
   "nbconvert_exporter": "python",
   "pygments_lexer": "ipython3",
   "version": "3.11.5"
  }
 },
 "nbformat": 4,
 "nbformat_minor": 2
}
